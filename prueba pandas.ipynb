{
  "metadata": {
    "language_info": {
      "codemirror_mode": {
        "name": "python",
        "version": 3
      },
      "file_extension": ".py",
      "mimetype": "text/x-python",
      "name": "python",
      "nbconvert_exporter": "python",
      "pygments_lexer": "ipython3",
      "version": "3.8"
    },
    "kernelspec": {
      "name": "python",
      "display_name": "Python (Pyodide)",
      "language": "python"
    }
  },
  "nbformat_minor": 4,
  "nbformat": 4,
  "cells": [
    {
      "cell_type": "code",
      "source": "\n# importing pandas as pd\nimport pandas as pd\n  \n# Creating the DataFrame\ndf = pd.DataFrame({\"A\":[12, 4, 5, None, 1], \n                   \"B\":[7, 2, 54, 3, None], \n                   \"C\":[20, 16, 11, 3, 8], \n                   \"D\":[14, 3, None, 2, 6]}) \n  \n# Print the DataFrame\nprint(df)\n",
      "metadata": {
        "trusted": true
      },
      "execution_count": 1,
      "outputs": [
        {
          "name": "stdout",
          "text": "      A     B   C     D\n0  12.0   7.0  20  14.0\n1   4.0   2.0  16   3.0\n2   5.0  54.0  11   NaN\n3   NaN   3.0   3   2.0\n4   1.0   NaN   8   6.0\n",
          "output_type": "stream"
        }
      ]
    },
    {
      "cell_type": "code",
      "source": "a=df.values\na",
      "metadata": {
        "trusted": true
      },
      "execution_count": 2,
      "outputs": [
        {
          "execution_count": 2,
          "output_type": "execute_result",
          "data": {
            "text/plain": "array([[12.,  7., 20., 14.],\n       [ 4.,  2., 16.,  3.],\n       [ 5., 54., 11., nan],\n       [nan,  3.,  3.,  2.],\n       [ 1., nan,  8.,  6.]])"
          },
          "metadata": {}
        }
      ]
    },
    {
      "cell_type": "code",
      "source": "\nprint(a.shape)\nprint('filas=',a.shape[0],' Columnas=',a.shape[1])",
      "metadata": {
        "trusted": true
      },
      "execution_count": 3,
      "outputs": [
        {
          "name": "stdout",
          "text": "(5, 4)\nfilas= 5  Columnas= 4\n",
          "output_type": "stream"
        }
      ]
    },
    {
      "cell_type": "code",
      "source": "a[0, 2]",
      "metadata": {
        "trusted": true
      },
      "execution_count": 4,
      "outputs": [
        {
          "execution_count": 4,
          "output_type": "execute_result",
          "data": {
            "text/plain": "20.0"
          },
          "metadata": {}
        }
      ]
    },
    {
      "cell_type": "code",
      "source": "nans = pd.isnull(a)\nnans",
      "metadata": {
        "trusted": true
      },
      "execution_count": 5,
      "outputs": [
        {
          "execution_count": 5,
          "output_type": "execute_result",
          "data": {
            "text/plain": "array([[False, False, False, False],\n       [False, False, False, False],\n       [False, False, False,  True],\n       [ True, False, False, False],\n       [False,  True, False, False]])"
          },
          "metadata": {}
        }
      ]
    },
    {
      "cell_type": "code",
      "source": "df.fillna(0)",
      "metadata": {
        "trusted": true
      },
      "execution_count": 6,
      "outputs": [
        {
          "execution_count": 6,
          "output_type": "execute_result",
          "data": {
            "text/plain": "      A     B   C     D\n0  12.0   7.0  20  14.0\n1   4.0   2.0  16   3.0\n2   5.0  54.0  11   0.0\n3   0.0   3.0   3   2.0\n4   1.0   0.0   8   6.0",
            "text/html": "<div>\n<style scoped>\n    .dataframe tbody tr th:only-of-type {\n        vertical-align: middle;\n    }\n\n    .dataframe tbody tr th {\n        vertical-align: top;\n    }\n\n    .dataframe thead th {\n        text-align: right;\n    }\n</style>\n<table border=\"1\" class=\"dataframe\">\n  <thead>\n    <tr style=\"text-align: right;\">\n      <th></th>\n      <th>A</th>\n      <th>B</th>\n      <th>C</th>\n      <th>D</th>\n    </tr>\n  </thead>\n  <tbody>\n    <tr>\n      <th>0</th>\n      <td>12.0</td>\n      <td>7.0</td>\n      <td>20</td>\n      <td>14.0</td>\n    </tr>\n    <tr>\n      <th>1</th>\n      <td>4.0</td>\n      <td>2.0</td>\n      <td>16</td>\n      <td>3.0</td>\n    </tr>\n    <tr>\n      <th>2</th>\n      <td>5.0</td>\n      <td>54.0</td>\n      <td>11</td>\n      <td>0.0</td>\n    </tr>\n    <tr>\n      <th>3</th>\n      <td>0.0</td>\n      <td>3.0</td>\n      <td>3</td>\n      <td>2.0</td>\n    </tr>\n    <tr>\n      <th>4</th>\n      <td>1.0</td>\n      <td>0.0</td>\n      <td>8</td>\n      <td>6.0</td>\n    </tr>\n  </tbody>\n</table>\n</div>"
          },
          "metadata": {}
        }
      ]
    },
    {
      "cell_type": "code",
      "source": "adad = pd.DataFrame({\"A\":[1,2,4,3,4], \n                   \"B\":[1,2,4,3,4], \n                   \"C\":[1,2,4,3,4], \n                   \"D\":[1,2,4,3,4]}) \nabab = pd.DataFrame({\"A\":[1,-1,4,3,4], \n                   \"B\":[1,2,4,3,4], \n                   \"C\":[1,-1,4,3,4], \n                   \"D\":[1,2,4,3,4]}) ",
      "metadata": {
        "trusted": true
      },
      "execution_count": 7,
      "outputs": []
    },
    {
      "cell_type": "code",
      "source": "mask=(adad-abab) /adad.shape[1] >0.5\nmask",
      "metadata": {
        "trusted": true
      },
      "execution_count": 8,
      "outputs": [
        {
          "execution_count": 8,
          "output_type": "execute_result",
          "data": {
            "text/plain": "       A      B      C      D\n0  False  False  False  False\n1   True  False   True  False\n2  False  False  False  False\n3  False  False  False  False\n4  False  False  False  False",
            "text/html": "<div>\n<style scoped>\n    .dataframe tbody tr th:only-of-type {\n        vertical-align: middle;\n    }\n\n    .dataframe tbody tr th {\n        vertical-align: top;\n    }\n\n    .dataframe thead th {\n        text-align: right;\n    }\n</style>\n<table border=\"1\" class=\"dataframe\">\n  <thead>\n    <tr style=\"text-align: right;\">\n      <th></th>\n      <th>A</th>\n      <th>B</th>\n      <th>C</th>\n      <th>D</th>\n    </tr>\n  </thead>\n  <tbody>\n    <tr>\n      <th>0</th>\n      <td>False</td>\n      <td>False</td>\n      <td>False</td>\n      <td>False</td>\n    </tr>\n    <tr>\n      <th>1</th>\n      <td>True</td>\n      <td>False</td>\n      <td>True</td>\n      <td>False</td>\n    </tr>\n    <tr>\n      <th>2</th>\n      <td>False</td>\n      <td>False</td>\n      <td>False</td>\n      <td>False</td>\n    </tr>\n    <tr>\n      <th>3</th>\n      <td>False</td>\n      <td>False</td>\n      <td>False</td>\n      <td>False</td>\n    </tr>\n    <tr>\n      <th>4</th>\n      <td>False</td>\n      <td>False</td>\n      <td>False</td>\n      <td>False</td>\n    </tr>\n  </tbody>\n</table>\n</div>"
          },
          "metadata": {}
        }
      ]
    },
    {
      "cell_type": "code",
      "source": "inv_mask = ~mask\ninv_mask\n",
      "metadata": {
        "trusted": true
      },
      "execution_count": 9,
      "outputs": [
        {
          "execution_count": 9,
          "output_type": "execute_result",
          "data": {
            "text/plain": "       A     B      C     D\n0   True  True   True  True\n1  False  True  False  True\n2   True  True   True  True\n3   True  True   True  True\n4   True  True   True  True",
            "text/html": "<div>\n<style scoped>\n    .dataframe tbody tr th:only-of-type {\n        vertical-align: middle;\n    }\n\n    .dataframe tbody tr th {\n        vertical-align: top;\n    }\n\n    .dataframe thead th {\n        text-align: right;\n    }\n</style>\n<table border=\"1\" class=\"dataframe\">\n  <thead>\n    <tr style=\"text-align: right;\">\n      <th></th>\n      <th>A</th>\n      <th>B</th>\n      <th>C</th>\n      <th>D</th>\n    </tr>\n  </thead>\n  <tbody>\n    <tr>\n      <th>0</th>\n      <td>True</td>\n      <td>True</td>\n      <td>True</td>\n      <td>True</td>\n    </tr>\n    <tr>\n      <th>1</th>\n      <td>False</td>\n      <td>True</td>\n      <td>False</td>\n      <td>True</td>\n    </tr>\n    <tr>\n      <th>2</th>\n      <td>True</td>\n      <td>True</td>\n      <td>True</td>\n      <td>True</td>\n    </tr>\n    <tr>\n      <th>3</th>\n      <td>True</td>\n      <td>True</td>\n      <td>True</td>\n      <td>True</td>\n    </tr>\n    <tr>\n      <th>4</th>\n      <td>True</td>\n      <td>True</td>\n      <td>True</td>\n      <td>True</td>\n    </tr>\n  </tbody>\n</table>\n</div>"
          },
          "metadata": {}
        }
      ]
    },
    {
      "cell_type": "code",
      "source": "df2 = df[inv_mask]\ndf2",
      "metadata": {
        "trusted": true
      },
      "execution_count": 10,
      "outputs": [
        {
          "execution_count": 10,
          "output_type": "execute_result",
          "data": {
            "text/plain": "      A     B     C     D\n0  12.0   7.0  20.0  14.0\n1   NaN   2.0   NaN   3.0\n2   5.0  54.0  11.0   NaN\n3   NaN   3.0   3.0   2.0\n4   1.0   NaN   8.0   6.0",
            "text/html": "<div>\n<style scoped>\n    .dataframe tbody tr th:only-of-type {\n        vertical-align: middle;\n    }\n\n    .dataframe tbody tr th {\n        vertical-align: top;\n    }\n\n    .dataframe thead th {\n        text-align: right;\n    }\n</style>\n<table border=\"1\" class=\"dataframe\">\n  <thead>\n    <tr style=\"text-align: right;\">\n      <th></th>\n      <th>A</th>\n      <th>B</th>\n      <th>C</th>\n      <th>D</th>\n    </tr>\n  </thead>\n  <tbody>\n    <tr>\n      <th>0</th>\n      <td>12.0</td>\n      <td>7.0</td>\n      <td>20.0</td>\n      <td>14.0</td>\n    </tr>\n    <tr>\n      <th>1</th>\n      <td>NaN</td>\n      <td>2.0</td>\n      <td>NaN</td>\n      <td>3.0</td>\n    </tr>\n    <tr>\n      <th>2</th>\n      <td>5.0</td>\n      <td>54.0</td>\n      <td>11.0</td>\n      <td>NaN</td>\n    </tr>\n    <tr>\n      <th>3</th>\n      <td>NaN</td>\n      <td>3.0</td>\n      <td>3.0</td>\n      <td>2.0</td>\n    </tr>\n    <tr>\n      <th>4</th>\n      <td>1.0</td>\n      <td>NaN</td>\n      <td>8.0</td>\n      <td>6.0</td>\n    </tr>\n  </tbody>\n</table>\n</div>"
          },
          "metadata": {}
        }
      ]
    },
    {
      "cell_type": "code",
      "source": "df[mask]",
      "metadata": {
        "trusted": true
      },
      "execution_count": 11,
      "outputs": [
        {
          "execution_count": 11,
          "output_type": "execute_result",
          "data": {
            "text/plain": "     A   B     C   D\n0  NaN NaN   NaN NaN\n1  4.0 NaN  16.0 NaN\n2  NaN NaN   NaN NaN\n3  NaN NaN   NaN NaN\n4  NaN NaN   NaN NaN",
            "text/html": "<div>\n<style scoped>\n    .dataframe tbody tr th:only-of-type {\n        vertical-align: middle;\n    }\n\n    .dataframe tbody tr th {\n        vertical-align: top;\n    }\n\n    .dataframe thead th {\n        text-align: right;\n    }\n</style>\n<table border=\"1\" class=\"dataframe\">\n  <thead>\n    <tr style=\"text-align: right;\">\n      <th></th>\n      <th>A</th>\n      <th>B</th>\n      <th>C</th>\n      <th>D</th>\n    </tr>\n  </thead>\n  <tbody>\n    <tr>\n      <th>0</th>\n      <td>NaN</td>\n      <td>NaN</td>\n      <td>NaN</td>\n      <td>NaN</td>\n    </tr>\n    <tr>\n      <th>1</th>\n      <td>4.0</td>\n      <td>NaN</td>\n      <td>16.0</td>\n      <td>NaN</td>\n    </tr>\n    <tr>\n      <th>2</th>\n      <td>NaN</td>\n      <td>NaN</td>\n      <td>NaN</td>\n      <td>NaN</td>\n    </tr>\n    <tr>\n      <th>3</th>\n      <td>NaN</td>\n      <td>NaN</td>\n      <td>NaN</td>\n      <td>NaN</td>\n    </tr>\n    <tr>\n      <th>4</th>\n      <td>NaN</td>\n      <td>NaN</td>\n      <td>NaN</td>\n      <td>NaN</td>\n    </tr>\n  </tbody>\n</table>\n</div>"
          },
          "metadata": {}
        }
      ]
    },
    {
      "cell_type": "code",
      "source": "df.index.values\n\n",
      "metadata": {
        "trusted": true
      },
      "execution_count": 17,
      "outputs": [
        {
          "execution_count": 17,
          "output_type": "execute_result",
          "data": {
            "text/plain": "array([0, 1, 2, 3, 4], dtype=int64)"
          },
          "metadata": {}
        }
      ]
    },
    {
      "cell_type": "code",
      "source": "import numpy as np\nnp.full([200, 4], -1, dtype=np.int32)",
      "metadata": {
        "trusted": true
      },
      "execution_count": 22,
      "outputs": [
        {
          "execution_count": 22,
          "output_type": "execute_result",
          "data": {
            "text/plain": "array([[-1, -1, -1, -1],\n       [-1, -1, -1, -1],\n       [-1, -1, -1, -1],\n       [-1, -1, -1, -1],\n       [-1, -1, -1, -1],\n       [-1, -1, -1, -1],\n       [-1, -1, -1, -1],\n       [-1, -1, -1, -1],\n       [-1, -1, -1, -1],\n       [-1, -1, -1, -1],\n       [-1, -1, -1, -1],\n       [-1, -1, -1, -1],\n       [-1, -1, -1, -1],\n       [-1, -1, -1, -1],\n       [-1, -1, -1, -1],\n       [-1, -1, -1, -1],\n       [-1, -1, -1, -1],\n       [-1, -1, -1, -1],\n       [-1, -1, -1, -1],\n       [-1, -1, -1, -1],\n       [-1, -1, -1, -1],\n       [-1, -1, -1, -1],\n       [-1, -1, -1, -1],\n       [-1, -1, -1, -1],\n       [-1, -1, -1, -1],\n       [-1, -1, -1, -1],\n       [-1, -1, -1, -1],\n       [-1, -1, -1, -1],\n       [-1, -1, -1, -1],\n       [-1, -1, -1, -1],\n       [-1, -1, -1, -1],\n       [-1, -1, -1, -1],\n       [-1, -1, -1, -1],\n       [-1, -1, -1, -1],\n       [-1, -1, -1, -1],\n       [-1, -1, -1, -1],\n       [-1, -1, -1, -1],\n       [-1, -1, -1, -1],\n       [-1, -1, -1, -1],\n       [-1, -1, -1, -1],\n       [-1, -1, -1, -1],\n       [-1, -1, -1, -1],\n       [-1, -1, -1, -1],\n       [-1, -1, -1, -1],\n       [-1, -1, -1, -1],\n       [-1, -1, -1, -1],\n       [-1, -1, -1, -1],\n       [-1, -1, -1, -1],\n       [-1, -1, -1, -1],\n       [-1, -1, -1, -1],\n       [-1, -1, -1, -1],\n       [-1, -1, -1, -1],\n       [-1, -1, -1, -1],\n       [-1, -1, -1, -1],\n       [-1, -1, -1, -1],\n       [-1, -1, -1, -1],\n       [-1, -1, -1, -1],\n       [-1, -1, -1, -1],\n       [-1, -1, -1, -1],\n       [-1, -1, -1, -1],\n       [-1, -1, -1, -1],\n       [-1, -1, -1, -1],\n       [-1, -1, -1, -1],\n       [-1, -1, -1, -1],\n       [-1, -1, -1, -1],\n       [-1, -1, -1, -1],\n       [-1, -1, -1, -1],\n       [-1, -1, -1, -1],\n       [-1, -1, -1, -1],\n       [-1, -1, -1, -1],\n       [-1, -1, -1, -1],\n       [-1, -1, -1, -1],\n       [-1, -1, -1, -1],\n       [-1, -1, -1, -1],\n       [-1, -1, -1, -1],\n       [-1, -1, -1, -1],\n       [-1, -1, -1, -1],\n       [-1, -1, -1, -1],\n       [-1, -1, -1, -1],\n       [-1, -1, -1, -1],\n       [-1, -1, -1, -1],\n       [-1, -1, -1, -1],\n       [-1, -1, -1, -1],\n       [-1, -1, -1, -1],\n       [-1, -1, -1, -1],\n       [-1, -1, -1, -1],\n       [-1, -1, -1, -1],\n       [-1, -1, -1, -1],\n       [-1, -1, -1, -1],\n       [-1, -1, -1, -1],\n       [-1, -1, -1, -1],\n       [-1, -1, -1, -1],\n       [-1, -1, -1, -1],\n       [-1, -1, -1, -1],\n       [-1, -1, -1, -1],\n       [-1, -1, -1, -1],\n       [-1, -1, -1, -1],\n       [-1, -1, -1, -1],\n       [-1, -1, -1, -1],\n       [-1, -1, -1, -1],\n       [-1, -1, -1, -1],\n       [-1, -1, -1, -1],\n       [-1, -1, -1, -1],\n       [-1, -1, -1, -1],\n       [-1, -1, -1, -1],\n       [-1, -1, -1, -1],\n       [-1, -1, -1, -1],\n       [-1, -1, -1, -1],\n       [-1, -1, -1, -1],\n       [-1, -1, -1, -1],\n       [-1, -1, -1, -1],\n       [-1, -1, -1, -1],\n       [-1, -1, -1, -1],\n       [-1, -1, -1, -1],\n       [-1, -1, -1, -1],\n       [-1, -1, -1, -1],\n       [-1, -1, -1, -1],\n       [-1, -1, -1, -1],\n       [-1, -1, -1, -1],\n       [-1, -1, -1, -1],\n       [-1, -1, -1, -1],\n       [-1, -1, -1, -1],\n       [-1, -1, -1, -1],\n       [-1, -1, -1, -1],\n       [-1, -1, -1, -1],\n       [-1, -1, -1, -1],\n       [-1, -1, -1, -1],\n       [-1, -1, -1, -1],\n       [-1, -1, -1, -1],\n       [-1, -1, -1, -1],\n       [-1, -1, -1, -1],\n       [-1, -1, -1, -1],\n       [-1, -1, -1, -1],\n       [-1, -1, -1, -1],\n       [-1, -1, -1, -1],\n       [-1, -1, -1, -1],\n       [-1, -1, -1, -1],\n       [-1, -1, -1, -1],\n       [-1, -1, -1, -1],\n       [-1, -1, -1, -1],\n       [-1, -1, -1, -1],\n       [-1, -1, -1, -1],\n       [-1, -1, -1, -1],\n       [-1, -1, -1, -1],\n       [-1, -1, -1, -1],\n       [-1, -1, -1, -1],\n       [-1, -1, -1, -1],\n       [-1, -1, -1, -1],\n       [-1, -1, -1, -1],\n       [-1, -1, -1, -1],\n       [-1, -1, -1, -1],\n       [-1, -1, -1, -1],\n       [-1, -1, -1, -1],\n       [-1, -1, -1, -1],\n       [-1, -1, -1, -1],\n       [-1, -1, -1, -1],\n       [-1, -1, -1, -1],\n       [-1, -1, -1, -1],\n       [-1, -1, -1, -1],\n       [-1, -1, -1, -1],\n       [-1, -1, -1, -1],\n       [-1, -1, -1, -1],\n       [-1, -1, -1, -1],\n       [-1, -1, -1, -1],\n       [-1, -1, -1, -1],\n       [-1, -1, -1, -1],\n       [-1, -1, -1, -1],\n       [-1, -1, -1, -1],\n       [-1, -1, -1, -1],\n       [-1, -1, -1, -1],\n       [-1, -1, -1, -1],\n       [-1, -1, -1, -1],\n       [-1, -1, -1, -1],\n       [-1, -1, -1, -1],\n       [-1, -1, -1, -1],\n       [-1, -1, -1, -1],\n       [-1, -1, -1, -1],\n       [-1, -1, -1, -1],\n       [-1, -1, -1, -1],\n       [-1, -1, -1, -1],\n       [-1, -1, -1, -1],\n       [-1, -1, -1, -1],\n       [-1, -1, -1, -1],\n       [-1, -1, -1, -1],\n       [-1, -1, -1, -1],\n       [-1, -1, -1, -1],\n       [-1, -1, -1, -1],\n       [-1, -1, -1, -1],\n       [-1, -1, -1, -1],\n       [-1, -1, -1, -1],\n       [-1, -1, -1, -1],\n       [-1, -1, -1, -1],\n       [-1, -1, -1, -1],\n       [-1, -1, -1, -1],\n       [-1, -1, -1, -1],\n       [-1, -1, -1, -1],\n       [-1, -1, -1, -1],\n       [-1, -1, -1, -1],\n       [-1, -1, -1, -1],\n       [-1, -1, -1, -1]])"
          },
          "metadata": {}
        }
      ]
    },
    {
      "cell_type": "code",
      "source": "def encode_page_features(df):# -> Dict[str, pd.DataFrame]:\n    \"\"\"\n    Applies one-hot encoding to page features and normalises result\n    :param df: page features DataFrame (one column per feature)\n    :return: dictionary feature_name:encoded_values. Encoded values is [n_pages,n_values] array\n    \"\"\"\n    def encode(column) -> pd.DataFrame:\n        one_hot = pd.get_dummies(df[column], drop_first=False)\n        # noinspection PyUnresolvedReferences\n        return (one_hot - one_hot.mean()) / one_hot.std()\n\n    return {str(column): encode(column) for column in df}\nsalida=encode_page_features(df)\nsalida",
      "metadata": {
        "trusted": true
      },
      "execution_count": 27,
      "outputs": [
        {
          "execution_count": 27,
          "output_type": "execute_result",
          "data": {
            "text/plain": "{'A':        1.0       4.0       5.0       12.0\n 0 -0.447214 -0.447214 -0.447214  1.788854\n 1 -0.447214  1.788854 -0.447214 -0.447214\n 2 -0.447214 -0.447214  1.788854 -0.447214\n 3 -0.447214 -0.447214 -0.447214 -0.447214\n 4  1.788854 -0.447214 -0.447214 -0.447214,\n 'B':        2.0       3.0       7.0       54.0\n 0 -0.447214 -0.447214  1.788854 -0.447214\n 1  1.788854 -0.447214 -0.447214 -0.447214\n 2 -0.447214 -0.447214 -0.447214  1.788854\n 3 -0.447214  1.788854 -0.447214 -0.447214\n 4 -0.447214 -0.447214 -0.447214 -0.447214,\n 'C':          3         8         11        16        20\n 0 -0.447214 -0.447214 -0.447214 -0.447214  1.788854\n 1 -0.447214 -0.447214 -0.447214  1.788854 -0.447214\n 2 -0.447214 -0.447214  1.788854 -0.447214 -0.447214\n 3  1.788854 -0.447214 -0.447214 -0.447214 -0.447214\n 4 -0.447214  1.788854 -0.447214 -0.447214 -0.447214,\n 'D':        2.0       3.0       6.0       14.0\n 0 -0.447214 -0.447214 -0.447214  1.788854\n 1 -0.447214  1.788854 -0.447214 -0.447214\n 2 -0.447214 -0.447214 -0.447214 -0.447214\n 3  1.788854 -0.447214 -0.447214 -0.447214\n 4 -0.447214 -0.447214  1.788854 -0.447214}"
          },
          "metadata": {}
        }
      ]
    },
    {
      "cell_type": "code",
      "source": "salida[\"A\"]",
      "metadata": {
        "trusted": true
      },
      "execution_count": 29,
      "outputs": [
        {
          "execution_count": 29,
          "output_type": "execute_result",
          "data": {
            "text/plain": "       1.0       4.0       5.0       12.0\n0 -0.447214 -0.447214 -0.447214  1.788854\n1 -0.447214  1.788854 -0.447214 -0.447214\n2 -0.447214 -0.447214  1.788854 -0.447214\n3 -0.447214 -0.447214 -0.447214 -0.447214\n4  1.788854 -0.447214 -0.447214 -0.447214",
            "text/html": "<div>\n<style scoped>\n    .dataframe tbody tr th:only-of-type {\n        vertical-align: middle;\n    }\n\n    .dataframe tbody tr th {\n        vertical-align: top;\n    }\n\n    .dataframe thead th {\n        text-align: right;\n    }\n</style>\n<table border=\"1\" class=\"dataframe\">\n  <thead>\n    <tr style=\"text-align: right;\">\n      <th></th>\n      <th>1.0</th>\n      <th>4.0</th>\n      <th>5.0</th>\n      <th>12.0</th>\n    </tr>\n  </thead>\n  <tbody>\n    <tr>\n      <th>0</th>\n      <td>-0.447214</td>\n      <td>-0.447214</td>\n      <td>-0.447214</td>\n      <td>1.788854</td>\n    </tr>\n    <tr>\n      <th>1</th>\n      <td>-0.447214</td>\n      <td>1.788854</td>\n      <td>-0.447214</td>\n      <td>-0.447214</td>\n    </tr>\n    <tr>\n      <th>2</th>\n      <td>-0.447214</td>\n      <td>-0.447214</td>\n      <td>1.788854</td>\n      <td>-0.447214</td>\n    </tr>\n    <tr>\n      <th>3</th>\n      <td>-0.447214</td>\n      <td>-0.447214</td>\n      <td>-0.447214</td>\n      <td>-0.447214</td>\n    </tr>\n    <tr>\n      <th>4</th>\n      <td>1.788854</td>\n      <td>-0.447214</td>\n      <td>-0.447214</td>\n      <td>-0.447214</td>\n    </tr>\n  </tbody>\n</table>\n</div>"
          },
          "metadata": {}
        }
      ]
    },
    {
      "cell_type": "code",
      "source": "df",
      "metadata": {
        "trusted": true
      },
      "execution_count": 31,
      "outputs": [
        {
          "execution_count": 31,
          "output_type": "execute_result",
          "data": {
            "text/plain": "      A     B   C     D\n0  12.0   7.0  20  14.0\n1   4.0   2.0  16   3.0\n2   5.0  54.0  11   NaN\n3   NaN   3.0   3   2.0\n4   1.0   NaN   8   6.0",
            "text/html": "<div>\n<style scoped>\n    .dataframe tbody tr th:only-of-type {\n        vertical-align: middle;\n    }\n\n    .dataframe tbody tr th {\n        vertical-align: top;\n    }\n\n    .dataframe thead th {\n        text-align: right;\n    }\n</style>\n<table border=\"1\" class=\"dataframe\">\n  <thead>\n    <tr style=\"text-align: right;\">\n      <th></th>\n      <th>A</th>\n      <th>B</th>\n      <th>C</th>\n      <th>D</th>\n    </tr>\n  </thead>\n  <tbody>\n    <tr>\n      <th>0</th>\n      <td>12.0</td>\n      <td>7.0</td>\n      <td>20</td>\n      <td>14.0</td>\n    </tr>\n    <tr>\n      <th>1</th>\n      <td>4.0</td>\n      <td>2.0</td>\n      <td>16</td>\n      <td>3.0</td>\n    </tr>\n    <tr>\n      <th>2</th>\n      <td>5.0</td>\n      <td>54.0</td>\n      <td>11</td>\n      <td>NaN</td>\n    </tr>\n    <tr>\n      <th>3</th>\n      <td>NaN</td>\n      <td>3.0</td>\n      <td>3</td>\n      <td>2.0</td>\n    </tr>\n    <tr>\n      <th>4</th>\n      <td>1.0</td>\n      <td>NaN</td>\n      <td>8</td>\n      <td>6.0</td>\n    </tr>\n  </tbody>\n</table>\n</div>"
          },
          "metadata": {}
        }
      ]
    },
    {
      "cell_type": "code",
      "source": "df.median(axis=1)",
      "metadata": {
        "trusted": true
      },
      "execution_count": 35,
      "outputs": [
        {
          "execution_count": 35,
          "output_type": "execute_result",
          "data": {
            "text/plain": "0    13.0\n1     3.5\n2    11.0\n3     3.0\n4     6.0\ndtype: float64"
          },
          "metadata": {}
        }
      ]
    },
    {
      "cell_type": "code",
      "source": "",
      "metadata": {},
      "execution_count": null,
      "outputs": []
    },
    {
      "cell_type": "code",
      "source": "",
      "metadata": {},
      "execution_count": null,
      "outputs": []
    }
  ]
}